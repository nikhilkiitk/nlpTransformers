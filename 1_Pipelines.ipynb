{
 "cells": [
  {
   "cell_type": "code",
   "execution_count": 1,
   "id": "c56fdbd2-7741-40b2-9269-298f17ea894b",
   "metadata": {},
   "outputs": [],
   "source": [
    "import pandas as pd\n",
    "import numpy as np\n",
    "import matplotlib.pyplot as plt"
   ]
  },
  {
   "cell_type": "code",
   "execution_count": 2,
   "id": "05930198-0eed-406c-86e5-e34e5b2c5c7a",
   "metadata": {},
   "outputs": [],
   "source": [
    "# Import pipeline\n",
    "from transformers import pipeline"
   ]
  },
  {
   "cell_type": "markdown",
   "id": "2a32ca34-32c1-4f1f-bee5-b7de614d5057",
   "metadata": {},
   "source": [
    "### Text Classification"
   ]
  },
  {
   "cell_type": "code",
   "execution_count": 3,
   "id": "26cefaf1-210e-4721-ab3e-c4576e0e73ae",
   "metadata": {},
   "outputs": [
    {
     "name": "stderr",
     "output_type": "stream",
     "text": [
      "No model was supplied, defaulted to distilbert-base-uncased-finetuned-sst-2-english (https://huggingface.co/distilbert-base-uncased-finetuned-sst-2-english)\n"
     ]
    },
    {
     "data": {
      "application/vnd.jupyter.widget-view+json": {
       "model_id": "e4f5deff96894d5480ead09abbd89ecc",
       "version_major": 2,
       "version_minor": 0
      },
      "text/plain": [
       "Downloading:   0%|          | 0.00/629 [00:00<?, ?B/s]"
      ]
     },
     "metadata": {},
     "output_type": "display_data"
    },
    {
     "data": {
      "application/vnd.jupyter.widget-view+json": {
       "model_id": "47dfe7bb39124228a0fa9dd908fa1854",
       "version_major": 2,
       "version_minor": 0
      },
      "text/plain": [
       "Downloading:   0%|          | 0.00/255M [00:00<?, ?B/s]"
      ]
     },
     "metadata": {},
     "output_type": "display_data"
    },
    {
     "data": {
      "application/vnd.jupyter.widget-view+json": {
       "model_id": "3970d1e311264474b956a9493eaa8e49",
       "version_major": 2,
       "version_minor": 0
      },
      "text/plain": [
       "Downloading:   0%|          | 0.00/48.0 [00:00<?, ?B/s]"
      ]
     },
     "metadata": {},
     "output_type": "display_data"
    },
    {
     "data": {
      "application/vnd.jupyter.widget-view+json": {
       "model_id": "d7695a9c771c41deb719c9d6ae4f3965",
       "version_major": 2,
       "version_minor": 0
      },
      "text/plain": [
       "Downloading:   0%|          | 0.00/226k [00:00<?, ?B/s]"
      ]
     },
     "metadata": {},
     "output_type": "display_data"
    }
   ],
   "source": [
    "# A default model is used if no specific model is mentioned.\n",
    "classifier = pipeline(\"text-classification\")"
   ]
  },
  {
   "cell_type": "code",
   "execution_count": 4,
   "id": "096890e0-a183-4c98-bcfa-a4c76ad22b14",
   "metadata": {},
   "outputs": [
    {
     "name": "stdout",
     "output_type": "stream",
     "text": [
      "I am reviewing it from a non-Indian (aka non-emotional) perspective: No doubt the movie plot was interesting but I didn't find Mr. NAMBI a hero that the movie potrayed. Of course he was unfairly treated by the system and he deserves a good compensation from the Indian govt and people. Thus, his acclaims are well deserved. Yet, the way the movie claimed that India is the first nation to go to Mars in the first attempt and Mr. NAMBI made it happen were blatant exaggeration. It seems Mr. Nambi is a brilliant scientist who kept looking for stealing ideas, data, and resources. He got everything from other countries and the movie made a big fuss about it by claiming he did it from scratch. The way the movie presented ISRO was saddening. There were other good scientists, including APJ Kamal, there as well but the movie kind of showed everyone incompetent. The movie showed big contracts with foreign countries were already negotiated by Mr. NAMBI while in reality these high level contracts could not be signed or negotiated without high level govt involvement. I think the movie overestimated Mr. Nambi and thus fictionalized many part of it.\n"
     ]
    }
   ],
   "source": [
    "# A review for a movie\n",
    "text = \"I am reviewing it from a non-Indian (aka non-emotional) perspective: No doubt the movie plot was interesting but I didn't find Mr. NAMBI a hero that the movie potrayed. Of course he was unfairly treated by the system and he deserves a good compensation from the Indian govt and people. Thus, his acclaims are well deserved. Yet, the way the movie claimed that India is the first nation to go to Mars in the first attempt and Mr. NAMBI made it happen were blatant exaggeration. It seems Mr. Nambi is a brilliant scientist who kept looking for stealing ideas, data, and resources. He got everything from other countries and the movie made a big fuss about it by claiming he did it from scratch. The way the movie presented ISRO was saddening. There were other good scientists, including APJ Kamal, there as well but the movie kind of showed everyone incompetent. The movie showed big contracts with foreign countries were already negotiated by Mr. NAMBI while in reality these high level contracts could not be signed or negotiated without high level govt involvement. I think the movie overestimated Mr. Nambi and thus fictionalized many part of it.\"\n",
    "print(text)"
   ]
  },
  {
   "cell_type": "code",
   "execution_count": 5,
   "id": "cd6e96a7-8bda-490b-8dd1-7c77047c6d8a",
   "metadata": {},
   "outputs": [
    {
     "data": {
      "text/html": [
       "<div>\n",
       "<style scoped>\n",
       "    .dataframe tbody tr th:only-of-type {\n",
       "        vertical-align: middle;\n",
       "    }\n",
       "\n",
       "    .dataframe tbody tr th {\n",
       "        vertical-align: top;\n",
       "    }\n",
       "\n",
       "    .dataframe thead th {\n",
       "        text-align: right;\n",
       "    }\n",
       "</style>\n",
       "<table border=\"1\" class=\"dataframe\">\n",
       "  <thead>\n",
       "    <tr style=\"text-align: right;\">\n",
       "      <th></th>\n",
       "      <th>label</th>\n",
       "      <th>score</th>\n",
       "    </tr>\n",
       "  </thead>\n",
       "  <tbody>\n",
       "    <tr>\n",
       "      <th>0</th>\n",
       "      <td>NEGATIVE</td>\n",
       "      <td>0.936303</td>\n",
       "    </tr>\n",
       "  </tbody>\n",
       "</table>\n",
       "</div>"
      ],
      "text/plain": [
       "      label     score\n",
       "0  NEGATIVE  0.936303"
      ]
     },
     "execution_count": 5,
     "metadata": {},
     "output_type": "execute_result"
    }
   ],
   "source": [
    "output = classifier(text)\n",
    "pd.DataFrame(output)"
   ]
  },
  {
   "cell_type": "code",
   "execution_count": 8,
   "id": "d36ad1fc-3980-497e-ae27-7804d0b018a0",
   "metadata": {},
   "outputs": [
    {
     "name": "stdout",
     "output_type": "stream",
     "text": [
      "You’ve heard the chant. You may not have heard of the sport, but you’ve heard the chant. The chant - one that a billion people once lived by; one that would originate from the Wankhede and echo across the city and the seas. It is a name that continues to inspire many, not only in India, but all over the world, to take up the sport. Sachin Ramesh Tendulkar was that cricketer whose personality and aura upstaged any cricketing contest; yet he maintained that he wasn’t greater than than the game. To the people of India, the 5’5” giant of a man was much more than that. He was an emotion; a symbol of hope in a nation that revered him as nothing short of a God.\n"
     ]
    }
   ],
   "source": [
    "text = \"You’ve heard the chant. You may not have heard of the sport, but you’ve heard the chant. The chant - one that a billion people once lived by; one that would originate from the Wankhede and echo across the city and the seas. It is a name that continues to inspire many, not only in India, but all over the world, to take up the sport. Sachin Ramesh Tendulkar was that cricketer whose personality and aura upstaged any cricketing contest; yet he maintained that he wasn’t greater than than the game. To the people of India, the 5’5” giant of a man was much more than that. He was an emotion; a symbol of hope in a nation that revered him as nothing short of a God.\"\n",
    "print(text)"
   ]
  },
  {
   "cell_type": "code",
   "execution_count": 11,
   "id": "80a4b267-fd80-4376-9856-8807068845be",
   "metadata": {},
   "outputs": [
    {
     "name": "stderr",
     "output_type": "stream",
     "text": [
      "No model was supplied, defaulted to distilbert-base-cased-distilled-squad (https://huggingface.co/distilbert-base-cased-distilled-squad)\n"
     ]
    },
    {
     "data": {
      "text/html": [
       "<div>\n",
       "<style scoped>\n",
       "    .dataframe tbody tr th:only-of-type {\n",
       "        vertical-align: middle;\n",
       "    }\n",
       "\n",
       "    .dataframe tbody tr th {\n",
       "        vertical-align: top;\n",
       "    }\n",
       "\n",
       "    .dataframe thead th {\n",
       "        text-align: right;\n",
       "    }\n",
       "</style>\n",
       "<table border=\"1\" class=\"dataframe\">\n",
       "  <thead>\n",
       "    <tr style=\"text-align: right;\">\n",
       "      <th></th>\n",
       "      <th>score</th>\n",
       "      <th>start</th>\n",
       "      <th>end</th>\n",
       "      <th>answer</th>\n",
       "    </tr>\n",
       "  </thead>\n",
       "  <tbody>\n",
       "    <tr>\n",
       "      <th>0</th>\n",
       "      <td>0.86122</td>\n",
       "      <td>341</td>\n",
       "      <td>357</td>\n",
       "      <td>Ramesh Tendulkar</td>\n",
       "    </tr>\n",
       "  </tbody>\n",
       "</table>\n",
       "</div>"
      ],
      "text/plain": [
       "     score  start  end            answer\n",
       "0  0.86122    341  357  Ramesh Tendulkar"
      ]
     },
     "execution_count": 11,
     "metadata": {},
     "output_type": "execute_result"
    }
   ],
   "source": [
    "reader = pipeline(\"question-answering\")\n",
    "question = \"What is Sachin's full name?\"\n",
    "outputs = reader(question=question, context=text)\n",
    "pd.DataFrame([outputs])"
   ]
  },
  {
   "cell_type": "code",
   "execution_count": null,
   "id": "8a47e965-46c7-4208-ba29-764e125976bb",
   "metadata": {},
   "outputs": [],
   "source": []
  }
 ],
 "metadata": {
  "kernelspec": {
   "display_name": "Python 3 (ipykernel)",
   "language": "python",
   "name": "python3"
  },
  "language_info": {
   "codemirror_mode": {
    "name": "ipython",
    "version": 3
   },
   "file_extension": ".py",
   "mimetype": "text/x-python",
   "name": "python",
   "nbconvert_exporter": "python",
   "pygments_lexer": "ipython3",
   "version": "3.9.13"
  }
 },
 "nbformat": 4,
 "nbformat_minor": 5
}
