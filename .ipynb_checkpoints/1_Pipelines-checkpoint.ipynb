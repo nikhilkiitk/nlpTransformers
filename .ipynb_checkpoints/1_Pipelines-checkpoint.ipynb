{
 "cells": [
  {
   "cell_type": "code",
   "execution_count": 1,
   "id": "c56fdbd2-7741-40b2-9269-298f17ea894b",
   "metadata": {},
   "outputs": [],
   "source": [
    "import pandas as pd\n",
    "import numpy as np\n",
    "import matplotlib.pyplot as plt"
   ]
  },
  {
   "cell_type": "code",
   "execution_count": 2,
   "id": "05930198-0eed-406c-86e5-e34e5b2c5c7a",
   "metadata": {},
   "outputs": [],
   "source": [
    "# Import pipeline\n",
    "from transformers import pipeline"
   ]
  },
  {
   "cell_type": "markdown",
   "id": "2a32ca34-32c1-4f1f-bee5-b7de614d5057",
   "metadata": {},
   "source": [
    "### Text Classification"
   ]
  },
  {
   "cell_type": "code",
   "execution_count": 3,
   "id": "26cefaf1-210e-4721-ab3e-c4576e0e73ae",
   "metadata": {},
   "outputs": [
    {
     "name": "stderr",
     "output_type": "stream",
     "text": [
      "No model was supplied, defaulted to distilbert-base-uncased-finetuned-sst-2-english (https://huggingface.co/distilbert-base-uncased-finetuned-sst-2-english)\n"
     ]
    },
    {
     "data": {
      "application/vnd.jupyter.widget-view+json": {
       "model_id": "3a870cc54e6a454d9954252221f15f5f",
       "version_major": 2,
       "version_minor": 0
      },
      "text/plain": [
       "Downloading:   0%|          | 0.00/629 [00:00<?, ?B/s]"
      ]
     },
     "metadata": {},
     "output_type": "display_data"
    },
    {
     "data": {
      "application/vnd.jupyter.widget-view+json": {
       "model_id": "76d9070c9b6d408e8e8d4d4aa0313b69",
       "version_major": 2,
       "version_minor": 0
      },
      "text/plain": [
       "Downloading:   0%|          | 0.00/255M [00:00<?, ?B/s]"
      ]
     },
     "metadata": {},
     "output_type": "display_data"
    },
    {
     "data": {
      "application/vnd.jupyter.widget-view+json": {
       "model_id": "be393aeeeecd4e13a847aab313f15a79",
       "version_major": 2,
       "version_minor": 0
      },
      "text/plain": [
       "Downloading:   0%|          | 0.00/48.0 [00:00<?, ?B/s]"
      ]
     },
     "metadata": {},
     "output_type": "display_data"
    },
    {
     "data": {
      "application/vnd.jupyter.widget-view+json": {
       "model_id": "af2dfae8bb374782a25f1e189cdcb615",
       "version_major": 2,
       "version_minor": 0
      },
      "text/plain": [
       "Downloading:   0%|          | 0.00/226k [00:00<?, ?B/s]"
      ]
     },
     "metadata": {},
     "output_type": "display_data"
    }
   ],
   "source": [
    "# A default model is used if no specific model is mentioned.\n",
    "classifier = pipeline(\"text-classification\")"
   ]
  },
  {
   "cell_type": "code",
   "execution_count": 14,
   "id": "096890e0-a183-4c98-bcfa-a4c76ad22b14",
   "metadata": {},
   "outputs": [
    {
     "name": "stdout",
     "output_type": "stream",
     "text": [
      "I am reviewing it from a non-Indian (aka non-emotional) perspective: No doubt the movie plot was interesting but I didn't find Mr. NAMBI a hero that the movie potrayed. Of course he was unfairly treated by the system and he deserves a good compensation from the Indian govt and people. Thus, his acclaims are well deserved. Yet, the way the movie claimed that India is the first nation to go to Mars in the first attempt and Mr. NAMBI made it happen were blatant exaggeration. It seems Mr. Nambi is a brilliant scientist who kept looking for stealing ideas, data, and resources. He got everything from other countries and the movie made a big fuss about it by claiming he did it from scratch. The way the movie presented ISRO was saddening. There were other good scientists, including APJ Kamal, there as well but the movie kind of showed everyone incompetent. The movie showed big contracts with foreign countries were already negotiated by Mr. NAMBI while in reality these high level contracts could not be signed or negotiated without high level govt involvement. I think the movie overestimated Mr. Nambi and thus fictionalized many part of it.\n"
     ]
    }
   ],
   "source": [
    "# A review for a movie\n",
    "text1 = \"I am reviewing it from a non-Indian (aka non-emotional) perspective: No doubt the movie plot was interesting but I didn't find Mr. NAMBI a hero that the movie potrayed. Of course he was unfairly treated by the system and he deserves a good compensation from the Indian govt and people. Thus, his acclaims are well deserved. Yet, the way the movie claimed that India is the first nation to go to Mars in the first attempt and Mr. NAMBI made it happen were blatant exaggeration. It seems Mr. Nambi is a brilliant scientist who kept looking for stealing ideas, data, and resources. He got everything from other countries and the movie made a big fuss about it by claiming he did it from scratch. The way the movie presented ISRO was saddening. There were other good scientists, including APJ Kamal, there as well but the movie kind of showed everyone incompetent. The movie showed big contracts with foreign countries were already negotiated by Mr. NAMBI while in reality these high level contracts could not be signed or negotiated without high level govt involvement. I think the movie overestimated Mr. Nambi and thus fictionalized many part of it.\"\n",
    "print(text1)"
   ]
  },
  {
   "cell_type": "code",
   "execution_count": 5,
   "id": "cd6e96a7-8bda-490b-8dd1-7c77047c6d8a",
   "metadata": {},
   "outputs": [
    {
     "data": {
      "text/html": [
       "<div>\n",
       "<style scoped>\n",
       "    .dataframe tbody tr th:only-of-type {\n",
       "        vertical-align: middle;\n",
       "    }\n",
       "\n",
       "    .dataframe tbody tr th {\n",
       "        vertical-align: top;\n",
       "    }\n",
       "\n",
       "    .dataframe thead th {\n",
       "        text-align: right;\n",
       "    }\n",
       "</style>\n",
       "<table border=\"1\" class=\"dataframe\">\n",
       "  <thead>\n",
       "    <tr style=\"text-align: right;\">\n",
       "      <th></th>\n",
       "      <th>label</th>\n",
       "      <th>score</th>\n",
       "    </tr>\n",
       "  </thead>\n",
       "  <tbody>\n",
       "    <tr>\n",
       "      <th>0</th>\n",
       "      <td>NEGATIVE</td>\n",
       "      <td>0.936303</td>\n",
       "    </tr>\n",
       "  </tbody>\n",
       "</table>\n",
       "</div>"
      ],
      "text/plain": [
       "      label     score\n",
       "0  NEGATIVE  0.936303"
      ]
     },
     "execution_count": 5,
     "metadata": {},
     "output_type": "execute_result"
    }
   ],
   "source": [
    "output = classifier(text1)\n",
    "pd.DataFrame(output)"
   ]
  },
  {
   "cell_type": "markdown",
   "id": "b45f8b95-68d4-4132-87f3-e412a5e1c7df",
   "metadata": {},
   "source": [
    "### Named Entity Recognition"
   ]
  },
  {
   "cell_type": "code",
   "execution_count": 6,
   "id": "5bb3951c-26c9-4970-bc7f-341e77cae159",
   "metadata": {},
   "outputs": [
    {
     "name": "stderr",
     "output_type": "stream",
     "text": [
      "No model was supplied, defaulted to dbmdz/bert-large-cased-finetuned-conll03-english (https://huggingface.co/dbmdz/bert-large-cased-finetuned-conll03-english)\n"
     ]
    },
    {
     "data": {
      "application/vnd.jupyter.widget-view+json": {
       "model_id": "5da1041fccfc4d968992459cee457812",
       "version_major": 2,
       "version_minor": 0
      },
      "text/plain": [
       "Downloading:   0%|          | 0.00/998 [00:00<?, ?B/s]"
      ]
     },
     "metadata": {},
     "output_type": "display_data"
    },
    {
     "data": {
      "application/vnd.jupyter.widget-view+json": {
       "model_id": "e5f2f2d5410043329545a5456023a5a8",
       "version_major": 2,
       "version_minor": 0
      },
      "text/plain": [
       "Downloading:   0%|          | 0.00/1.24G [00:00<?, ?B/s]"
      ]
     },
     "metadata": {},
     "output_type": "display_data"
    },
    {
     "data": {
      "application/vnd.jupyter.widget-view+json": {
       "model_id": "bf2e34a005c041d6b9f9965f622222f8",
       "version_major": 2,
       "version_minor": 0
      },
      "text/plain": [
       "Downloading:   0%|          | 0.00/60.0 [00:00<?, ?B/s]"
      ]
     },
     "metadata": {},
     "output_type": "display_data"
    },
    {
     "data": {
      "application/vnd.jupyter.widget-view+json": {
       "model_id": "3736faba74044943bfc264a38ee947d3",
       "version_major": 2,
       "version_minor": 0
      },
      "text/plain": [
       "Downloading:   0%|          | 0.00/208k [00:00<?, ?B/s]"
      ]
     },
     "metadata": {},
     "output_type": "display_data"
    },
    {
     "data": {
      "text/html": [
       "<div>\n",
       "<style scoped>\n",
       "    .dataframe tbody tr th:only-of-type {\n",
       "        vertical-align: middle;\n",
       "    }\n",
       "\n",
       "    .dataframe tbody tr th {\n",
       "        vertical-align: top;\n",
       "    }\n",
       "\n",
       "    .dataframe thead th {\n",
       "        text-align: right;\n",
       "    }\n",
       "</style>\n",
       "<table border=\"1\" class=\"dataframe\">\n",
       "  <thead>\n",
       "    <tr style=\"text-align: right;\">\n",
       "      <th></th>\n",
       "      <th>entity_group</th>\n",
       "      <th>score</th>\n",
       "      <th>word</th>\n",
       "      <th>start</th>\n",
       "      <th>end</th>\n",
       "    </tr>\n",
       "  </thead>\n",
       "  <tbody>\n",
       "    <tr>\n",
       "      <th>0</th>\n",
       "      <td>MISC</td>\n",
       "      <td>0.731648</td>\n",
       "      <td>non</td>\n",
       "      <td>25</td>\n",
       "      <td>28</td>\n",
       "    </tr>\n",
       "    <tr>\n",
       "      <th>1</th>\n",
       "      <td>MISC</td>\n",
       "      <td>0.997590</td>\n",
       "      <td>Indian</td>\n",
       "      <td>29</td>\n",
       "      <td>35</td>\n",
       "    </tr>\n",
       "    <tr>\n",
       "      <th>2</th>\n",
       "      <td>ORG</td>\n",
       "      <td>0.867549</td>\n",
       "      <td>NAM</td>\n",
       "      <td>131</td>\n",
       "      <td>134</td>\n",
       "    </tr>\n",
       "    <tr>\n",
       "      <th>3</th>\n",
       "      <td>PER</td>\n",
       "      <td>0.679311</td>\n",
       "      <td>##BI</td>\n",
       "      <td>134</td>\n",
       "      <td>136</td>\n",
       "    </tr>\n",
       "    <tr>\n",
       "      <th>4</th>\n",
       "      <td>MISC</td>\n",
       "      <td>0.998934</td>\n",
       "      <td>Indian</td>\n",
       "      <td>262</td>\n",
       "      <td>268</td>\n",
       "    </tr>\n",
       "    <tr>\n",
       "      <th>5</th>\n",
       "      <td>LOC</td>\n",
       "      <td>0.999683</td>\n",
       "      <td>India</td>\n",
       "      <td>360</td>\n",
       "      <td>365</td>\n",
       "    </tr>\n",
       "    <tr>\n",
       "      <th>6</th>\n",
       "      <td>LOC</td>\n",
       "      <td>0.996442</td>\n",
       "      <td>Mars</td>\n",
       "      <td>395</td>\n",
       "      <td>399</td>\n",
       "    </tr>\n",
       "    <tr>\n",
       "      <th>7</th>\n",
       "      <td>ORG</td>\n",
       "      <td>0.972968</td>\n",
       "      <td>NAMBI</td>\n",
       "      <td>429</td>\n",
       "      <td>434</td>\n",
       "    </tr>\n",
       "    <tr>\n",
       "      <th>8</th>\n",
       "      <td>PER</td>\n",
       "      <td>0.984763</td>\n",
       "      <td>Nambi</td>\n",
       "      <td>490</td>\n",
       "      <td>495</td>\n",
       "    </tr>\n",
       "    <tr>\n",
       "      <th>9</th>\n",
       "      <td>ORG</td>\n",
       "      <td>0.998022</td>\n",
       "      <td>ISRO</td>\n",
       "      <td>721</td>\n",
       "      <td>725</td>\n",
       "    </tr>\n",
       "    <tr>\n",
       "      <th>10</th>\n",
       "      <td>PER</td>\n",
       "      <td>0.998985</td>\n",
       "      <td>APJ Kamal</td>\n",
       "      <td>785</td>\n",
       "      <td>794</td>\n",
       "    </tr>\n",
       "    <tr>\n",
       "      <th>11</th>\n",
       "      <td>ORG</td>\n",
       "      <td>0.985603</td>\n",
       "      <td>NAMBI</td>\n",
       "      <td>946</td>\n",
       "      <td>951</td>\n",
       "    </tr>\n",
       "    <tr>\n",
       "      <th>12</th>\n",
       "      <td>PER</td>\n",
       "      <td>0.981720</td>\n",
       "      <td>Nambi</td>\n",
       "      <td>1103</td>\n",
       "      <td>1108</td>\n",
       "    </tr>\n",
       "  </tbody>\n",
       "</table>\n",
       "</div>"
      ],
      "text/plain": [
       "   entity_group     score       word  start   end\n",
       "0          MISC  0.731648        non     25    28\n",
       "1          MISC  0.997590     Indian     29    35\n",
       "2           ORG  0.867549        NAM    131   134\n",
       "3           PER  0.679311       ##BI    134   136\n",
       "4          MISC  0.998934     Indian    262   268\n",
       "5           LOC  0.999683      India    360   365\n",
       "6           LOC  0.996442       Mars    395   399\n",
       "7           ORG  0.972968      NAMBI    429   434\n",
       "8           PER  0.984763      Nambi    490   495\n",
       "9           ORG  0.998022       ISRO    721   725\n",
       "10          PER  0.998985  APJ Kamal    785   794\n",
       "11          ORG  0.985603      NAMBI    946   951\n",
       "12          PER  0.981720      Nambi   1103  1108"
      ]
     },
     "execution_count": 6,
     "metadata": {},
     "output_type": "execute_result"
    }
   ],
   "source": [
    "ner = pipeline(\"ner\", aggregation_strategy='simple')\n",
    "output = ner(text)\n",
    "pd.DataFrame(output)"
   ]
  },
  {
   "cell_type": "markdown",
   "id": "523c01ea-21fa-4b04-ae7d-79efb9d218da",
   "metadata": {},
   "source": [
    "### Question-Answering"
   ]
  },
  {
   "cell_type": "code",
   "execution_count": 15,
   "id": "d36ad1fc-3980-497e-ae27-7804d0b018a0",
   "metadata": {},
   "outputs": [
    {
     "name": "stdout",
     "output_type": "stream",
     "text": [
      "You’ve heard the chant. You may not have heard of the sport, but you’ve heard the chant. The chant - one that a billion people once lived by; one that would originate from the Wankhede and echo across the city and the seas. It is a name that continues to inspire many, not only in India, but all over the world, to take up the sport. Sachin Ramesh Tendulkar was that cricketer whose personality and aura upstaged any cricketing contest; yet he maintained that he wasn’t greater than than the game. To the people of India, the 5’5” giant of a man was much more than that. He was an emotion; a symbol of hope in a nation that revered him as nothing short of a God.\n"
     ]
    }
   ],
   "source": [
    "text2 = \"You’ve heard the chant. You may not have heard of the sport, but you’ve heard the chant. The chant - one that a billion people once lived by; one that would originate from the Wankhede and echo across the city and the seas. It is a name that continues to inspire many, not only in India, but all over the world, to take up the sport. Sachin Ramesh Tendulkar was that cricketer whose personality and aura upstaged any cricketing contest; yet he maintained that he wasn’t greater than than the game. To the people of India, the 5’5” giant of a man was much more than that. He was an emotion; a symbol of hope in a nation that revered him as nothing short of a God.\"\n",
    "print(text2)"
   ]
  },
  {
   "cell_type": "code",
   "execution_count": 8,
   "id": "80a4b267-fd80-4376-9856-8807068845be",
   "metadata": {},
   "outputs": [
    {
     "name": "stderr",
     "output_type": "stream",
     "text": [
      "No model was supplied, defaulted to distilbert-base-cased-distilled-squad (https://huggingface.co/distilbert-base-cased-distilled-squad)\n"
     ]
    },
    {
     "data": {
      "application/vnd.jupyter.widget-view+json": {
       "model_id": "7043fd4da21348278f64b91437e5ff28",
       "version_major": 2,
       "version_minor": 0
      },
      "text/plain": [
       "Downloading:   0%|          | 0.00/473 [00:00<?, ?B/s]"
      ]
     },
     "metadata": {},
     "output_type": "display_data"
    },
    {
     "data": {
      "application/vnd.jupyter.widget-view+json": {
       "model_id": "784074b8def14315af48b50af2bd98a9",
       "version_major": 2,
       "version_minor": 0
      },
      "text/plain": [
       "Downloading:   0%|          | 0.00/249M [00:00<?, ?B/s]"
      ]
     },
     "metadata": {},
     "output_type": "display_data"
    },
    {
     "data": {
      "application/vnd.jupyter.widget-view+json": {
       "model_id": "c8d929d2200b4f5a945fe2f3066a15bb",
       "version_major": 2,
       "version_minor": 0
      },
      "text/plain": [
       "Downloading:   0%|          | 0.00/29.0 [00:00<?, ?B/s]"
      ]
     },
     "metadata": {},
     "output_type": "display_data"
    },
    {
     "data": {
      "application/vnd.jupyter.widget-view+json": {
       "model_id": "8d787538a7e04bf5945e371727370337",
       "version_major": 2,
       "version_minor": 0
      },
      "text/plain": [
       "Downloading:   0%|          | 0.00/208k [00:00<?, ?B/s]"
      ]
     },
     "metadata": {},
     "output_type": "display_data"
    },
    {
     "data": {
      "application/vnd.jupyter.widget-view+json": {
       "model_id": "8be32139767b424eaa0e2199dc7f3c5c",
       "version_major": 2,
       "version_minor": 0
      },
      "text/plain": [
       "Downloading:   0%|          | 0.00/426k [00:00<?, ?B/s]"
      ]
     },
     "metadata": {},
     "output_type": "display_data"
    },
    {
     "data": {
      "text/html": [
       "<div>\n",
       "<style scoped>\n",
       "    .dataframe tbody tr th:only-of-type {\n",
       "        vertical-align: middle;\n",
       "    }\n",
       "\n",
       "    .dataframe tbody tr th {\n",
       "        vertical-align: top;\n",
       "    }\n",
       "\n",
       "    .dataframe thead th {\n",
       "        text-align: right;\n",
       "    }\n",
       "</style>\n",
       "<table border=\"1\" class=\"dataframe\">\n",
       "  <thead>\n",
       "    <tr style=\"text-align: right;\">\n",
       "      <th></th>\n",
       "      <th>score</th>\n",
       "      <th>start</th>\n",
       "      <th>end</th>\n",
       "      <th>answer</th>\n",
       "    </tr>\n",
       "  </thead>\n",
       "  <tbody>\n",
       "    <tr>\n",
       "      <th>0</th>\n",
       "      <td>0.86122</td>\n",
       "      <td>341</td>\n",
       "      <td>357</td>\n",
       "      <td>Ramesh Tendulkar</td>\n",
       "    </tr>\n",
       "  </tbody>\n",
       "</table>\n",
       "</div>"
      ],
      "text/plain": [
       "     score  start  end            answer\n",
       "0  0.86122    341  357  Ramesh Tendulkar"
      ]
     },
     "execution_count": 8,
     "metadata": {},
     "output_type": "execute_result"
    }
   ],
   "source": [
    "reader = pipeline(\"question-answering\")\n",
    "question = \"What is Sachin's full name?\"\n",
    "outputs = reader(question=question, context=text2)\n",
    "pd.DataFrame([outputs])"
   ]
  },
  {
   "cell_type": "code",
   "execution_count": 9,
   "id": "8a47e965-46c7-4208-ba29-764e125976bb",
   "metadata": {},
   "outputs": [
    {
     "data": {
      "text/html": [
       "<div>\n",
       "<style scoped>\n",
       "    .dataframe tbody tr th:only-of-type {\n",
       "        vertical-align: middle;\n",
       "    }\n",
       "\n",
       "    .dataframe tbody tr th {\n",
       "        vertical-align: top;\n",
       "    }\n",
       "\n",
       "    .dataframe thead th {\n",
       "        text-align: right;\n",
       "    }\n",
       "</style>\n",
       "<table border=\"1\" class=\"dataframe\">\n",
       "  <thead>\n",
       "    <tr style=\"text-align: right;\">\n",
       "      <th></th>\n",
       "      <th>score</th>\n",
       "      <th>start</th>\n",
       "      <th>end</th>\n",
       "      <th>answer</th>\n",
       "    </tr>\n",
       "  </thead>\n",
       "  <tbody>\n",
       "    <tr>\n",
       "      <th>0</th>\n",
       "      <td>0.809059</td>\n",
       "      <td>526</td>\n",
       "      <td>529</td>\n",
       "      <td>5’5</td>\n",
       "    </tr>\n",
       "  </tbody>\n",
       "</table>\n",
       "</div>"
      ],
      "text/plain": [
       "      score  start  end answer\n",
       "0  0.809059    526  529    5’5"
      ]
     },
     "execution_count": 9,
     "metadata": {},
     "output_type": "execute_result"
    }
   ],
   "source": [
    "question = \"What is Sachin's height?\"\n",
    "outputs = reader(question=question, context=text2)\n",
    "pd.DataFrame([outputs])"
   ]
  },
  {
   "cell_type": "code",
   "execution_count": 11,
   "id": "6a4b748e-870a-40fb-b952-df8fb17b4410",
   "metadata": {},
   "outputs": [
    {
     "data": {
      "text/html": [
       "<div>\n",
       "<style scoped>\n",
       "    .dataframe tbody tr th:only-of-type {\n",
       "        vertical-align: middle;\n",
       "    }\n",
       "\n",
       "    .dataframe tbody tr th {\n",
       "        vertical-align: top;\n",
       "    }\n",
       "\n",
       "    .dataframe thead th {\n",
       "        text-align: right;\n",
       "    }\n",
       "</style>\n",
       "<table border=\"1\" class=\"dataframe\">\n",
       "  <thead>\n",
       "    <tr style=\"text-align: right;\">\n",
       "      <th></th>\n",
       "      <th>score</th>\n",
       "      <th>start</th>\n",
       "      <th>end</th>\n",
       "      <th>answer</th>\n",
       "    </tr>\n",
       "  </thead>\n",
       "  <tbody>\n",
       "    <tr>\n",
       "      <th>0</th>\n",
       "      <td>0.381032</td>\n",
       "      <td>602</td>\n",
       "      <td>606</td>\n",
       "      <td>hope</td>\n",
       "    </tr>\n",
       "  </tbody>\n",
       "</table>\n",
       "</div>"
      ],
      "text/plain": [
       "      score  start  end answer\n",
       "0  0.381032    602  606   hope"
      ]
     },
     "execution_count": 11,
     "metadata": {},
     "output_type": "execute_result"
    }
   ],
   "source": [
    "question = \"What does Sachin represent?\"\n",
    "outputs = reader(question=question, context=text2)\n",
    "pd.DataFrame([outputs])"
   ]
  },
  {
   "cell_type": "markdown",
   "id": "68d02054-e9c4-4547-995c-0be212108193",
   "metadata": {},
   "source": [
    "### Summarization"
   ]
  },
  {
   "cell_type": "code",
   "execution_count": 16,
   "id": "e6277e25-c78f-4f34-a9df-d3f4918ef9c6",
   "metadata": {},
   "outputs": [
    {
     "name": "stderr",
     "output_type": "stream",
     "text": [
      "No model was supplied, defaulted to sshleifer/distilbart-cnn-12-6 (https://huggingface.co/sshleifer/distilbart-cnn-12-6)\n"
     ]
    },
    {
     "name": "stdout",
     "output_type": "stream",
     "text": [
      " Sachin Ramesh Tendulkar was that cricketer whose personality and aura upstaged any cricketing contest. To the people of India, the 5’5” giant of a man was much more than that. He was an emotion; a symbol of hope\n"
     ]
    }
   ],
   "source": [
    "summarize = pipeline('summarization')\n",
    "output = summarize(text2, max_length=60, clean_up_tokenization_spaces=True)\n",
    "print(output[0]['summary_text'])"
   ]
  },
  {
   "cell_type": "code",
   "execution_count": 17,
   "id": "66478a3a-5306-4a79-b06b-3962addb3caf",
   "metadata": {},
   "outputs": [
    {
     "name": "stdout",
     "output_type": "stream",
     "text": [
      " I am reviewing it from a non-Indian (aka non-emotional) perspective: No doubt the movie plot was interesting but I didn't find Mr. NAMBI a hero that the movie potrayed. Of course he was unfairly treated by the system and he deserves a\n"
     ]
    }
   ],
   "source": [
    "output = summarize(text1, max_length=60, clean_up_tokenization_spaces=True)\n",
    "print(output[0]['summary_text'])"
   ]
  },
  {
   "cell_type": "markdown",
   "id": "d467485c-daba-4df4-b0c4-2bfefca4cf5a",
   "metadata": {},
   "source": [
    "### Text Generation"
   ]
  },
  {
   "cell_type": "code",
   "execution_count": 23,
   "id": "bb271ada-0953-48e4-b2be-7a17fe06f181",
   "metadata": {},
   "outputs": [
    {
     "name": "stderr",
     "output_type": "stream",
     "text": [
      "No model was supplied, defaulted to gpt2 (https://huggingface.co/gpt2)\n",
      "The attention mask and the pad token id were not set. As a consequence, you may observe unexpected behavior. Please pass your input's `attention_mask` to obtain reliable results.\n",
      "Setting `pad_token_id` to `eos_token_id`:50256 for open-end generation.\n"
     ]
    },
    {
     "name": "stdout",
     "output_type": "stream",
     "text": [
      "I am reviewing it from a non-Indian (aka non-emotional) perspective: No doubt the movie plot was interesting but I didn't find Mr. NAMBI a hero that the movie potrayed. Of course he was unfairly treated by the system and he deserves a good compensation from the Indian govt and people. Thus, his acclaims are well deserved. Yet, the way the movie claimed that India is the first nation to go to Mars in the first attempt and Mr. NAMBI made it happen were blatant exaggeration. It seems Mr. Nambi is a brilliant scientist who kept looking for stealing ideas, data, and resources. He got everything from other countries and the movie made a big fuss about it by claiming he did it from scratch. The way the movie presented ISRO was saddening. There were other good scientists, including APJ Kamal, there as well but the movie kind of showed everyone incompetent. The movie showed big contracts with foreign countries were already negotiated by Mr. NAMBI while in reality these high level contracts could not be signed or negotiated without high level govt involvement. I think the movie overestimated Mr. Nambi and thus fictionalized many part of it.\n",
      "\n",
      "Reply:\n",
      "Your movie review is biased because some countries may not want to look at the information in Mr. Nambi's studies and there will be some that do not. (It would be interesting to know how high the official government figure is in India?) You also quoted a number of people in an email that is a lie. But I have done it for you in my reviews only so you can be sure it was not you who was misleading the audiences. The point of this article is\n"
     ]
    }
   ],
   "source": [
    "generator = pipeline('text-generation')\n",
    "response = \"Your movie review is biased because\"\n",
    "prompt = text1 + \"\\n\\nReply:\\n\" + response\n",
    "\n",
    "outputs = generator(prompt, max_length=350)\n",
    "print(outputs[0]['generated_text'])"
   ]
  },
  {
   "cell_type": "code",
   "execution_count": null,
   "id": "e66a82b5-5ed0-4f80-b84f-ca3f48423a91",
   "metadata": {},
   "outputs": [],
   "source": []
  }
 ],
 "metadata": {
  "kernelspec": {
   "display_name": "Python 3 (ipykernel)",
   "language": "python",
   "name": "python3"
  },
  "language_info": {
   "codemirror_mode": {
    "name": "ipython",
    "version": 3
   },
   "file_extension": ".py",
   "mimetype": "text/x-python",
   "name": "python",
   "nbconvert_exporter": "python",
   "pygments_lexer": "ipython3",
   "version": "3.9.13"
  }
 },
 "nbformat": 4,
 "nbformat_minor": 5
}
